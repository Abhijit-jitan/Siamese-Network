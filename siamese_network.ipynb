{
 "cells": [
  {
   "cell_type": "code",
   "execution_count": 1,
   "metadata": {},
   "outputs": [],
   "source": [
    "import numpy as np\n",
    "import tensorflow as tf"
   ]
  },
  {
   "cell_type": "code",
   "execution_count": 2,
   "metadata": {},
   "outputs": [],
   "source": [
    "## load data\n",
    "train_img,train_label=np.load(r\"E:\\projects\\classification similarity using Siamese-Network\\dataset\\train_img.npy\"),np.load(r\"E:\\projects\\classification similarity using Siamese-Network\\dataset\\train_label.npy\")\n",
    "test_img,test_label=np.load(r\"E:\\projects\\classification similarity using Siamese-Network\\dataset\\test_img.npy\"),np.load(r\"E:\\projects\\classification similarity using Siamese-Network\\dataset\\test_label.npy\")"
   ]
  },
  {
   "cell_type": "code",
   "execution_count": 3,
   "metadata": {},
   "outputs": [
    {
     "name": "stdout",
     "output_type": "stream",
     "text": [
      "(119980, 2, 28, 28) (119980,)\n",
      "(119980, 2, 28, 28) (119980,)\n"
     ]
    }
   ],
   "source": [
    "print(train_img.shape,train_label.shape)\n",
    "print(test_img.shape,test_label.shape)"
   ]
  },
  {
   "cell_type": "markdown",
   "metadata": {},
   "source": [
    "## Siamese Model"
   ]
  },
  {
   "cell_type": "code",
   "execution_count": 7,
   "metadata": {},
   "outputs": [
    {
     "name": "stdout",
     "output_type": "stream",
     "text": [
      "Model: \"functional_5\"\n",
      "_________________________________________________________________\n",
      "Layer (type)                 Output Shape              Param #   \n",
      "=================================================================\n",
      "input_layer (InputLayer)     [(None, 28, 28)]          0         \n",
      "_________________________________________________________________\n",
      "flatten_input_layer (Flatten (None, 784)               0         \n",
      "_________________________________________________________________\n",
      "first_dense_layer (Dense)    (None, 128)               100480    \n",
      "_________________________________________________________________\n",
      "first_dropout_layer (Dropout (None, 128)               0         \n",
      "_________________________________________________________________\n",
      "second_dense_layer (Dense)   (None, 128)               16512     \n",
      "_________________________________________________________________\n",
      "second_dropout_layer (Dropou (None, 128)               0         \n",
      "_________________________________________________________________\n",
      "third_dense_layer (Dense)    (None, 128)               16512     \n",
      "=================================================================\n",
      "Total params: 133,504\n",
      "Trainable params: 133,504\n",
      "Non-trainable params: 0\n",
      "_________________________________________________________________\n"
     ]
    }
   ],
   "source": [
    "from tensorflow.keras.models import Model\n",
    "from tensorflow.keras.layers import Input, Flatten, Dense, Dropout, Lambda\n",
    "\n",
    "\n",
    "## Creating Base model layers(for feature extraction)\n",
    "\n",
    "def feature_extractor_network():\n",
    "    input=Input(shape=(28,28,),name=\"input_layer\")\n",
    "    x=Flatten(name=\"flatten_input_layer\")(input)\n",
    "    x=Dense(128,activation='relu',name=\"first_dense_layer\")(x)\n",
    "    x=Dropout(0.1,name=\"first_dropout_layer\")(x)\n",
    "    x=Dense(128,activation='relu',name=\"second_dense_layer\")(x)\n",
    "    x=Dropout(0.1,name=\"second_dropout_layer\")(x)\n",
    "    x=Dense(128,activation='relu',name=\"third_dense_layer\")(x)\n",
    "\n",
    "    return Model(inputs=input,outputs=x)\n",
    "\n",
    "feature_extractor=feature_extractor_network()\n",
    "feature_extractor.summary()"
   ]
  },
  {
   "cell_type": "markdown",
   "metadata": {},
   "source": [
    "### custom distacne metrics \n"
   ]
  },
  {
   "cell_type": "code",
   "execution_count": 16,
   "metadata": {},
   "outputs": [],
   "source": [
    "from tensorflow.keras import backend as K\n",
    "\n",
    "def euclidean_distance(vects):\n",
    "    x,y=vects\n",
    "    sum_square=K.sum(K.square(x-y),axis=1,keepdims=True)\n",
    "    return K.sqrt(K.maximum(sum_square,K.epsilon()))\n",
    "\n",
    "def eucl_dist_output_shape(shapes):\n",
    "    shape1,shape2=shapes\n",
    "    return (shape1[0],1)"
   ]
  },
  {
   "cell_type": "code",
   "execution_count": 17,
   "metadata": {},
   "outputs": [
    {
     "name": "stdout",
     "output_type": "stream",
     "text": [
      "Model: \"functional_7\"\n",
      "__________________________________________________________________________________________________\n",
      "Layer (type)                    Output Shape         Param #     Connected to                     \n",
      "==================================================================================================\n",
      "left_input (InputLayer)         [(None, 28, 28)]     0                                            \n",
      "__________________________________________________________________________________________________\n",
      "right_input (InputLayer)        [(None, 28, 28)]     0                                            \n",
      "__________________________________________________________________________________________________\n",
      "functional_5 (Functional)       (None, 128)          133504      left_input[0][0]                 \n",
      "                                                                 right_input[0][0]                \n",
      "__________________________________________________________________________________________________\n",
      "output_layer (Lambda)           (None, 1)            0           functional_5[4][0]               \n",
      "                                                                 functional_5[5][0]               \n",
      "==================================================================================================\n",
      "Total params: 133,504\n",
      "Trainable params: 133,504\n",
      "Non-trainable params: 0\n",
      "__________________________________________________________________________________________________\n"
     ]
    }
   ],
   "source": [
    "## create model for comparing images\n",
    "\n",
    "# Left layers\n",
    "input_left=Input(shape=(28,28,),name=\"left_input\")\n",
    "feature_extractor_left=feature_extractor(input_left)\n",
    "\n",
    "# Right layers\n",
    "input_right=Input(shape=(28,28,),name=\"right_input\")\n",
    "feature_extractor_right=feature_extractor(input_right)\n",
    "\n",
    "# Output Layer (Calculates distance between 2 image(left & right))\n",
    "output=Lambda(euclidean_distance,name=\"output_layer\",output_shape=eucl_dist_output_shape)([feature_extractor_left,feature_extractor_right])\n",
    "\n",
    "# Siamese Model creation\n",
    "siamese_model=Model(inputs=[input_left,input_right],outputs=output)\n",
    "siamese_model.summary()"
   ]
  },
  {
   "cell_type": "markdown",
   "metadata": {},
   "source": [
    "### Custom loss function 'Contrastive loss'"
   ]
  },
  {
   "cell_type": "code",
   "execution_count": 18,
   "metadata": {},
   "outputs": [],
   "source": [
    "def contrastive_loss_with_margin(margin):\n",
    "    def contrastive_loss(y_true,y_pred):\n",
    "        \"\"\" Contrastive loss from Hadsell-et-al.'06  @http://yann.lecun.com/exdb/publis/pdf/hadsell-chopra-lecun-06.pdf \"\"\"\n",
    "        square_pred=K.square(y_pred)\n",
    "        margin_square=K.square(K.maximum(margin-y_pred,0))  # outputs {max(among margin-y_pred & 0)}**2\n",
    "        return (y_true*square_pred+(1-y_true)*margin_square)\n",
    "    return contrastive_loss"
   ]
  },
  {
   "cell_type": "markdown",
   "metadata": {},
   "source": [
    "### Compile & train model"
   ]
  },
  {
   "cell_type": "code",
   "execution_count": 28,
   "metadata": {},
   "outputs": [
    {
     "name": "stdout",
     "output_type": "stream",
     "text": [
      "Epoch 1/50\n",
      "938/938 [==============================] - 6s 6ms/step - loss: 0.0489 - val_loss: 0.0431\n",
      "Epoch 2/50\n",
      "938/938 [==============================] - 6s 7ms/step - loss: 0.0485 - val_loss: 0.0430\n",
      "Epoch 3/50\n",
      "938/938 [==============================] - 6s 7ms/step - loss: 0.0486 - val_loss: 0.0417\n",
      "Epoch 4/50\n",
      "938/938 [==============================] - 6s 7ms/step - loss: 0.0479 - val_loss: 0.0420\n",
      "Epoch 5/50\n",
      "938/938 [==============================] - 7s 7ms/step - loss: 0.0480 - val_loss: 0.0436\n",
      "Epoch 6/50\n",
      "938/938 [==============================] - 6s 7ms/step - loss: 0.0477 - val_loss: 0.0433\n",
      "Epoch 7/50\n",
      "938/938 [==============================] - 6s 6ms/step - loss: 0.0473 - val_loss: 0.0413\n",
      "Epoch 8/50\n",
      "938/938 [==============================] - 7s 7ms/step - loss: 0.0469 - val_loss: 0.0420\n",
      "Epoch 9/50\n",
      "938/938 [==============================] - 6s 7ms/step - loss: 0.0468 - val_loss: 0.0427\n",
      "Epoch 10/50\n",
      "938/938 [==============================] - 7s 7ms/step - loss: 0.0462 - val_loss: 0.0412\n",
      "Epoch 11/50\n",
      "938/938 [==============================] - 6s 7ms/step - loss: 0.0466 - val_loss: 0.0408\n",
      "Epoch 12/50\n",
      "938/938 [==============================] - 7s 7ms/step - loss: 0.0463 - val_loss: 0.0425\n",
      "Epoch 13/50\n",
      "938/938 [==============================] - 7s 8ms/step - loss: 0.0457 - val_loss: 0.0399\n",
      "Epoch 14/50\n",
      "938/938 [==============================] - 8s 8ms/step - loss: 0.0457 - val_loss: 0.0438\n",
      "Epoch 15/50\n",
      "938/938 [==============================] - 7s 8ms/step - loss: 0.0458 - val_loss: 0.0380\n",
      "Epoch 16/50\n",
      "938/938 [==============================] - 8s 8ms/step - loss: 0.0455 - val_loss: 0.0401\n",
      "Epoch 17/50\n",
      "938/938 [==============================] - 7s 7ms/step - loss: 0.0453 - val_loss: 0.0411\n",
      "Epoch 18/50\n",
      "938/938 [==============================] - 7s 7ms/step - loss: 0.0454 - val_loss: 0.0402\n",
      "Epoch 19/50\n",
      "938/938 [==============================] - 7s 7ms/step - loss: 0.0450 - val_loss: 0.0390\n",
      "Epoch 20/50\n",
      "938/938 [==============================] - 7s 7ms/step - loss: 0.0449 - val_loss: 0.0384\n",
      "Epoch 21/50\n",
      "938/938 [==============================] - 7s 7ms/step - loss: 0.0447 - val_loss: 0.0380\n",
      "Epoch 22/50\n",
      "938/938 [==============================] - 6s 7ms/step - loss: 0.0446 - val_loss: 0.0383\n",
      "Epoch 23/50\n",
      "938/938 [==============================] - 7s 7ms/step - loss: 0.0445 - val_loss: 0.0395\n",
      "Epoch 24/50\n",
      "938/938 [==============================] - 7s 7ms/step - loss: 0.0442 - val_loss: 0.0397\n",
      "Epoch 25/50\n",
      "938/938 [==============================] - 7s 7ms/step - loss: 0.0440 - val_loss: 0.0375\n",
      "Epoch 26/50\n",
      "938/938 [==============================] - 6s 7ms/step - loss: 0.0443 - val_loss: 0.0369\n",
      "Epoch 27/50\n",
      "938/938 [==============================] - 7s 8ms/step - loss: 0.0439 - val_loss: 0.0364\n",
      "Epoch 28/50\n",
      "938/938 [==============================] - 7s 7ms/step - loss: 0.0435 - val_loss: 0.0405\n",
      "Epoch 29/50\n",
      "938/938 [==============================] - 7s 7ms/step - loss: 0.0437 - val_loss: 0.0358\n",
      "Epoch 30/50\n",
      "938/938 [==============================] - 6s 7ms/step - loss: 0.0438 - val_loss: 0.0362\n",
      "Epoch 31/50\n",
      "938/938 [==============================] - 6s 7ms/step - loss: 0.0435 - val_loss: 0.0423\n",
      "Epoch 32/50\n",
      "938/938 [==============================] - 6s 7ms/step - loss: 0.0434 - val_loss: 0.0361\n",
      "Epoch 33/50\n",
      "938/938 [==============================] - 6s 7ms/step - loss: 0.0428 - val_loss: 0.0368\n",
      "Epoch 34/50\n",
      "938/938 [==============================] - 6s 7ms/step - loss: 0.0429 - val_loss: 0.0375\n",
      "Epoch 35/50\n",
      "938/938 [==============================] - 6s 7ms/step - loss: 0.0430 - val_loss: 0.0382\n",
      "Epoch 36/50\n",
      "938/938 [==============================] - 7s 7ms/step - loss: 0.0428 - val_loss: 0.0365\n",
      "Epoch 37/50\n",
      "938/938 [==============================] - 6s 7ms/step - loss: 0.0426 - val_loss: 0.0360\n",
      "Epoch 38/50\n",
      "938/938 [==============================] - 6s 7ms/step - loss: 0.0424 - val_loss: 0.0357\n",
      "Epoch 39/50\n",
      "938/938 [==============================] - 6s 7ms/step - loss: 0.0429 - val_loss: 0.0385\n",
      "Epoch 40/50\n",
      "938/938 [==============================] - 6s 7ms/step - loss: 0.0423 - val_loss: 0.0363\n",
      "Epoch 41/50\n",
      "938/938 [==============================] - 6s 7ms/step - loss: 0.0425 - val_loss: 0.0354\n",
      "Epoch 42/50\n",
      "938/938 [==============================] - 6s 7ms/step - loss: 0.0422 - val_loss: 0.0349\n",
      "Epoch 43/50\n",
      "938/938 [==============================] - 6s 7ms/step - loss: 0.0418 - val_loss: 0.0361\n",
      "Epoch 44/50\n",
      "938/938 [==============================] - 6s 7ms/step - loss: 0.0420 - val_loss: 0.0346\n",
      "Epoch 45/50\n",
      "938/938 [==============================] - 6s 7ms/step - loss: 0.0421 - val_loss: 0.0348\n",
      "Epoch 46/50\n",
      "938/938 [==============================] - 6s 7ms/step - loss: 0.0420 - val_loss: 0.0362\n",
      "Epoch 47/50\n",
      "938/938 [==============================] - 6s 7ms/step - loss: 0.0420 - val_loss: 0.0348\n",
      "Epoch 48/50\n",
      "938/938 [==============================] - 6s 7ms/step - loss: 0.0419 - val_loss: 0.0345\n",
      "Epoch 49/50\n",
      "938/938 [==============================] - 7s 7ms/step - loss: 0.0420 - val_loss: 0.0343\n",
      "Epoch 50/50\n",
      "938/938 [==============================] - 7s 7ms/step - loss: 0.0419 - val_loss: 0.0363\n"
     ]
    }
   ],
   "source": [
    "from tensorflow.keras.optimizers import RMSprop\n",
    "\n",
    "## compile\n",
    "siamese_model.compile(loss=contrastive_loss_with_margin(margin=1),optimizer=RMSprop())\n",
    "\n",
    "## training\n",
    "train_left_img,train_right_img=train_img[:,0],train_img[:,1]\n",
    "val_left_img,val_right_img=test_img[:,0],test_img[:,1]\n",
    "\n",
    "history=siamese_model.fit([train_left_img,train_right_img],train_label,epochs=50,batch_size=128,validation_data=([val_left_img,val_right_img],test_label),verbose=1)"
   ]
  },
  {
   "cell_type": "markdown",
   "metadata": {},
   "source": [
    "### Model Evaluation"
   ]
  },
  {
   "cell_type": "code",
   "execution_count": 29,
   "metadata": {},
   "outputs": [
    {
     "name": "stdout",
     "output_type": "stream",
     "text": [
      "3750/3750 [==============================] - 7s 2ms/step - loss: 0.0363\n",
      "Loss = 0.036, Train Accuracy = 95.33% Test Accuracy = 95.33%\n"
     ]
    }
   ],
   "source": [
    "def compute_accuracy(y_true, y_pred):\n",
    "    ''' Compute classification accuracy with fixed threshold on distances '''\n",
    "    pred=y_pred.ravel()<0.5\n",
    "    return np.mean(pred==y_true)\n",
    "\n",
    "\n",
    "loss = siamese_model.evaluate(x=[val_left_img,val_right_img],y=test_label)\n",
    "\n",
    "y_pred_train = siamese_model.predict([train_left_img,train_right_img])\n",
    "train_accuracy = compute_accuracy(train_label, y_pred_train)\n",
    "\n",
    "y_pred_test = siamese_model.predict([val_left_img,val_right_img])\n",
    "test_accuracy = compute_accuracy(test_label,y_pred_test)\n",
    "\n",
    "print(\"Loss = {}, Train Accuracy = {}% Test Accuracy = {}%\".format(round(loss,3),round(train_accuracy*100,2),round(test_accuracy*100,2)))"
   ]
  },
  {
   "cell_type": "markdown",
   "metadata": {},
   "source": [
    "### Plot metics"
   ]
  },
  {
   "cell_type": "code",
   "execution_count": 30,
   "metadata": {},
   "outputs": [
    {
     "data": {
      "image/png": "[encoded data removed]",
      "text/plain": [
       "<Figure size 432x288 with 1 Axes>"
      ]
     },
     "metadata": {
      "needs_background": "light"
     },
     "output_type": "display_data"
    }
   ],
   "source": [
    "import matplotlib.pyplot as plt\n",
    "\n",
    "def plot_metrics(metric_name, title, ylim=5):\n",
    "    plt.title(title)\n",
    "    plt.ylim(0,ylim)\n",
    "    plt.plot(history.history[metric_name],color='blue',label=metric_name)\n",
    "    plt.plot(history.history['val_' + metric_name],color='green',label='val_' + metric_name)\n",
    "\n",
    "\n",
    "plot_metrics(metric_name='loss', title=\"Loss\", ylim=0.2)"
   ]
  },
  {
   "cell_type": "markdown",
   "metadata": {},
   "source": [
    "## Visualize predictions"
   ]
  },
  {
   "cell_type": "code",
   "execution_count": 31,
   "metadata": {},
   "outputs": [],
   "source": [
    "# Matplotlib config\n",
    "def visualize_images():\n",
    "    plt.rc('image', cmap='gray_r')\n",
    "    plt.rc('grid', linewidth=0)\n",
    "    plt.rc('xtick', top=False, bottom=False, labelsize='large')\n",
    "    plt.rc('ytick', left=False, right=False, labelsize='large')\n",
    "    plt.rc('axes', facecolor='F8F8F8', titlesize=\"large\", edgecolor='white')\n",
    "    plt.rc('text', color='a8151a')\n",
    "    plt.rc('figure', facecolor='F0F0F0')# Matplotlib fonts\n",
    "\n",
    "\n",
    "# utility to display a row of digits with their predictions\n",
    "def display_images(left, right, predictions, labels, title, n):\n",
    "    plt.figure(figsize=(17,3))\n",
    "    plt.title(title)\n",
    "    plt.yticks([])\n",
    "    plt.xticks([])\n",
    "    plt.grid(None)\n",
    "    left = np.reshape(left, [n, 28, 28])\n",
    "    left = np.swapaxes(left, 0, 1)\n",
    "    left = np.reshape(left, [28, 28*n])\n",
    "    plt.imshow(left)\n",
    "    plt.figure(figsize=(17,3))\n",
    "    plt.yticks([])\n",
    "    plt.xticks([28*x+14 for x in range(n)], predictions)\n",
    "    for i,t in enumerate(plt.gca().xaxis.get_ticklabels()):\n",
    "        if predictions[i] > 0.5: t.set_color('red') # bad predictions in red\n",
    "    plt.grid(None)\n",
    "    right = np.reshape(right, [n, 28, 28])\n",
    "    right = np.swapaxes(right, 0, 1)\n",
    "    right = np.reshape(right, [28, 28*n])\n",
    "    plt.imshow(right)\n"
   ]
  },
  {
   "cell_type": "code",
   "execution_count": 35,
   "metadata": {},
   "outputs": [
    {
     "data": {
      "image/png": "[encoded data removed]",
      "text/plain": [
       "<Figure size 1224x216 with 1 Axes>"
      ]
     },
     "metadata": {},
     "output_type": "display_data"
    },
    {
     "data": {
      "image/png": "[encoded data removed]",
      "text/plain": [
       "<Figure size 1224x216 with 1 Axes>"
      ]
     },
     "metadata": {
      "needs_background": "light"
     },
     "output_type": "display_data"
    }
   ],
   "source": [
    "y_pred_train = np.squeeze(y_pred_train)\n",
    "indexes = np.random.choice(len(y_pred_train), size=10)\n",
    "display_images(train_left_img[indexes],train_right_img[indexes],y_pred_train[indexes],train_label[indexes],\"clothes and their dissimilarity\",10)"
   ]
  },
  {
   "cell_type": "code",
   "execution_count": null,
   "metadata": {},
   "outputs": [],
   "source": []
  }
 ],
 "metadata": {
  "kernelspec": {
   "display_name": "Python 3.7.0 ('yolov4-gpu')",
   "language": "python",
   "name": "python3"
  },
  "language_info": {
   "codemirror_mode": {
    "name": "ipython",
    "version": 3
   },
   "file_extension": ".py",
   "mimetype": "text/x-python",
   "name": "python",
   "nbconvert_exporter": "python",
   "pygments_lexer": "ipython3",
   "version": "3.7.0"
  },
  "orig_nbformat": 4,
  "vscode": {
   "interpreter": {
    "hash": "0a772818dd8115b3dea6995a3354af9f9f28cd1087cf3dfa3413efcb9fa713c5"
   }
  }
 },
 "nbformat": 4,
 "nbformat_minor": 2
}
