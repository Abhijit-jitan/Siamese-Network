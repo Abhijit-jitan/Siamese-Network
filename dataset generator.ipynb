{
 "cells": [
  {
   "cell_type": "code",
   "execution_count": 2,
   "metadata": {},
   "outputs": [],
   "source": [
    "import numpy as np\n",
    "import matplotlib.pyplot as plt\n",
    "from PIL import Image, ImageFont, ImageDraw\n",
    "import random,os"
   ]
  },
  {
   "cell_type": "code",
   "execution_count": 4,
   "metadata": {},
   "outputs": [
    {
     "name": "stdout",
     "output_type": "stream",
     "text": [
      "train-image:(60000, 28, 28) , train-labels:(60000,)\n",
      "test-image:(10000, 28, 28) , test-labels:(10000,)\n"
     ]
    }
   ],
   "source": [
    "# load the dataset\n",
    "from tensorflow.keras.datasets import fashion_mnist\n",
    "\n",
    "os.chdir(r\"E:\\projects\\classification similarity using Siamese-Network\\dataset\")\n",
    "(train_images,train_labels),(test_images,test_labels)=fashion_mnist.load_data()\n",
    "\n",
    "print(\"train-image:{} , train-labels:{}\".format(train_images.shape,train_labels.shape))\n",
    "print(\"test-image:{} , test-labels:{}\".format(test_images.shape,test_labels.shape))"
   ]
  },
  {
   "cell_type": "code",
   "execution_count": 5,
   "metadata": {},
   "outputs": [],
   "source": [
    "## Image pre-processing\n",
    "train_images,test_images=train_images.astype('float32'),test_images.astype('float32')  # to float\n",
    "train_images,test_images=train_images/255.0,test_images/255.0                          # normalize values"
   ]
  },
  {
   "cell_type": "code",
   "execution_count": 6,
   "metadata": {},
   "outputs": [],
   "source": [
    "## create paired dataset\n",
    "\n",
    "def create_pairs(x, digit_indices):\n",
    "    '''Positive and negative pair creation.\n",
    "    Alternates between positive and negative pairs.\n",
    "    '''\n",
    "    pairs = []\n",
    "    labels = []\n",
    "    n = min([len(digit_indices[d]) for d in range(10)]) - 1\n",
    "    \n",
    "    for d in range(10):\n",
    "        for i in range(n):\n",
    "            z1, z2 = digit_indices[d][i], digit_indices[d][i + 1]\n",
    "            pairs += [[x[z1], x[z2]]]\n",
    "            inc = random.randrange(1, 10)\n",
    "            dn = (d + inc) % 10\n",
    "            z1, z2 = digit_indices[d][i], digit_indices[dn][i]\n",
    "            pairs += [[x[z1], x[z2]]]\n",
    "            labels += [1, 0]\n",
    "            \n",
    "    return np.array(pairs), np.array(labels)\n",
    "\n",
    "\n",
    "def create_pairs_on_set(images, labels):\n",
    "    \n",
    "    digit_indices = [np.where(labels == i)[0] for i in range(10)]\n",
    "    pairs, y = create_pairs(images, digit_indices)\n",
    "    y = y.astype('float32')\n",
    "    \n",
    "    return pairs, y\n",
    "\n",
    "\n",
    "# create pairs on train and test sets\n",
    "tr_pairs, tr_y = create_pairs_on_set(train_images, train_labels)\n",
    "ts_pairs, ts_y = create_pairs_on_set(test_images, test_labels)"
   ]
  },
  {
   "cell_type": "code",
   "execution_count": 9,
   "metadata": {},
   "outputs": [
    {
     "data": {
      "image/png": "[encoded data removed]",
      "text/plain": [
       "<Figure size 432x288 with 2 Axes>"
      ]
     },
     "metadata": {
      "needs_background": "light"
     },
     "output_type": "display_data"
    },
    {
     "data": {
      "image/png": "[encoded data removed]",
      "text/plain": [
       "<Figure size 432x288 with 2 Axes>"
      ]
     },
     "metadata": {
      "needs_background": "light"
     },
     "output_type": "display_data"
    },
    {
     "name": "stdout",
     "output_type": "stream",
     "text": [
      "0.0\n"
     ]
    }
   ],
   "source": [
    "def show_image(image):\n",
    "    \"\"\" Visualization image of specified indexed-image \"\"\"\n",
    "    plt.figure()\n",
    "    plt.imshow(image)\n",
    "    plt.colorbar()\n",
    "    plt.grid(False)\n",
    "    plt.show()\n",
    "\n",
    "\n",
    "## Visualize paired-data\n",
    "pair = 3\n",
    "show_image(ts_pairs[pair][0])\n",
    "show_image(ts_pairs[pair][1])\n",
    "print(\"Label: \",ts_y[pair])"
   ]
  },
  {
   "cell_type": "code",
   "execution_count": 10,
   "metadata": {},
   "outputs": [
    {
     "name": "stdout",
     "output_type": "stream",
     "text": [
      "(119980, 2, 28, 28) (119980,)\n",
      "(19980, 2, 28, 28) (19980,)\n"
     ]
    }
   ],
   "source": [
    "print(tr_pairs.shape,tr_y.shape)\n",
    "print(ts_pairs.shape,ts_y.shape)\n",
    "\n",
    "## Save paired data\n",
    "np.save(r\"E:\\projects\\classification similarity using Siamese-Network\\dataset\\train_img.npy\",tr_pairs)\n",
    "np.save(r\"E:\\projects\\classification similarity using Siamese-Network\\dataset\\train_label.npy\",tr_y)\n",
    "np.save(r\"E:\\projects\\classification similarity using Siamese-Network\\dataset\\test_img.npy\",tr_pairs)\n",
    "np.save(r\"E:\\projects\\classification similarity using Siamese-Network\\dataset\\test_label.npy\",tr_y)"
   ]
  },
  {
   "cell_type": "code",
   "execution_count": null,
   "metadata": {},
   "outputs": [],
   "source": []
  }
 ],
 "metadata": {
  "kernelspec": {
   "display_name": "Python 3.7.0 ('yolov4-gpu')",
   "language": "python",
   "name": "python3"
  },
  "language_info": {
   "codemirror_mode": {
    "name": "ipython",
    "version": 3
   },
   "file_extension": ".py",
   "mimetype": "text/x-python",
   "name": "python",
   "nbconvert_exporter": "python",
   "pygments_lexer": "ipython3",
   "version": "3.7.0"
  },
  "orig_nbformat": 4,
  "vscode": {
   "interpreter": {
    "hash": "0a772818dd8115b3dea6995a3354af9f9f28cd1087cf3dfa3413efcb9fa713c5"
   }
  }
 },
 "nbformat": 4,
 "nbformat_minor": 2
}
